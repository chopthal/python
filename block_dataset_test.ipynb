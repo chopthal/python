{
 "cells": [
  {
   "cell_type": "code",
   "execution_count": 1,
   "id": "7c147d3b",
   "metadata": {},
   "outputs": [],
   "source": [
    "import torch\n",
    "import torch.nn as nn\n",
    "import torchvision.datasets as dsets\n",
    "import torchvision.transforms as transforms\n",
    "import torchvision\n",
    "from torch.utils.data import Dataset\n",
    "from torch.utils.data import DataLoader\n",
    "\n",
    "import torch.nn.init\n",
    "\n",
    "import os\n",
    "import PIL"
   ]
  },
  {
   "cell_type": "code",
   "execution_count": 2,
   "id": "c810344d",
   "metadata": {},
   "outputs": [],
   "source": [
    "import numpy as np\n",
    "from matplotlib import pyplot as plt\n",
    "from matplotlib.pyplot import imshow, imread\n",
    "%matplotlib inline"
   ]
  },
  {
   "cell_type": "code",
   "execution_count": 3,
   "id": "0b88c007",
   "metadata": {},
   "outputs": [
    {
     "name": "stdout",
     "output_type": "stream",
     "text": [
      "device = cuda\n"
     ]
    }
   ],
   "source": [
    "device = 'cuda' if torch.cuda.is_available() else 'cpu'\n",
    "\n",
    "torch.manual_seed(777)\n",
    "if device == 'cuda':\n",
    "    torch.cuda.manual_seed_all(777)\n",
    "    \n",
    "print('device =', device)"
   ]
  },
  {
   "cell_type": "code",
   "execution_count": 4,
   "id": "6271bc0b",
   "metadata": {},
   "outputs": [],
   "source": [
    "class CustomDataset(Dataset):\n",
    "    \n",
    "    def __init__(self, root, transform=None):             \n",
    "        \n",
    "        self.transform = transform        \n",
    "        dir_name_list = os.listdir(root)\n",
    "        dir_list = []\n",
    "        for dir_name in dir_name_list:    \n",
    "            dir_list.append(os.path.join(root, dir_name))\n",
    "\n",
    "        no_imgs = 0\n",
    "        no_labels = len(dir_list)\n",
    "        list_labels = []\n",
    "        criterion_log = []\n",
    "        criterion_sum = 0\n",
    "        image_file_list = []\n",
    "\n",
    "        for i, dir_name in enumerate(dir_name_list):\n",
    "            image_file_list += os.listdir(os.path.join(root, dir_name))    \n",
    "            criterion_log.append(len(image_file_list))\n",
    "            no_imgs = criterion_log[i]\n",
    "            \n",
    "        self.criterion_log = criterion_log\n",
    "        self.image_file_list = image_file_list      \n",
    "        self.dir_list = dir_list\n",
    "        \n",
    "        \n",
    "    def __len__(self):\n",
    "        \n",
    "        return len(self.image_file_list)\n",
    "    \n",
    "        \n",
    "    def __getitem__(self, idx):\n",
    "        \n",
    "        image_file = self.image_file_list[idx]\n",
    "        label = []\n",
    "        \n",
    "        for i, criterion in enumerate(self.criterion_log):\n",
    "            if idx < criterion:\n",
    "                label = i\n",
    "                break\n",
    "                \n",
    "        path_name_img = os.path.join(self.dir_list[label], self.image_file_list[idx])        \n",
    "        image_org = Image.open(path_name_img)\n",
    "        image_resize = image_org.resize((100, 100))\n",
    "        image = np.asarray(image_resize)\n",
    "\n",
    "        sample = {'image' : image, 'label' : label}\n",
    "        \n",
    "        if self.transform:\n",
    "            sample = self.transform(sample)\n",
    "        \n",
    "        return sample['image'], sample['label']    "
   ]
  },
  {
   "cell_type": "code",
   "execution_count": 5,
   "id": "b655b200",
   "metadata": {},
   "outputs": [
    {
     "data": {
      "image/png": "[encoded data removed]",
      "text/plain": [
       "<Figure size 432x288 with 4 Axes>"
      ]
     },
     "metadata": {
      "needs_background": "light"
     },
     "output_type": "display_data"
    }
   ],
   "source": [
    "from PIL import Image\n",
    "\n",
    "train_data = CustomDataset(root='./custom_data/train')\n",
    "test_data = CustomDataset(root='./custom_data/train')\n",
    "\n",
    "i = 0\n",
    "for x, y in train_data:    \n",
    "    \n",
    "    img = x\n",
    "    label = y\n",
    "    ax = plt.subplot(1, 4, i+1)    \n",
    "    plt.tight_layout()\n",
    "    ax.axis('off')\n",
    "    ax.set_title(f'Label = {label}')    \n",
    "    imshow(img, cmap='gray')        \n",
    "    \n",
    "    if i == 3:                        \n",
    "        break    \n",
    "        \n",
    "    i += 1"
   ]
  },
  {
   "cell_type": "code",
   "execution_count": 25,
   "id": "3efab758",
   "metadata": {},
   "outputs": [],
   "source": [
    "learning_rate = 0.001\n",
    "training_epochs = 15\n",
    "batch_size = 50"
   ]
  },
  {
   "cell_type": "code",
   "execution_count": 26,
   "id": "fed207d1",
   "metadata": {},
   "outputs": [
    {
     "name": "stdout",
     "output_type": "stream",
     "text": [
      "tensor([1, 1, 0, 0, 0, 1, 0, 0, 0, 0, 0, 1, 1, 1, 1, 0, 1, 0, 0, 0, 0, 0, 1, 1,\n",
      "        1, 1, 0, 0, 1, 1, 1, 1, 0, 0, 0, 0, 1, 0, 1, 1, 1, 0, 0, 0, 1, 0, 1, 1,\n",
      "        1, 1])\n"
     ]
    },
    {
     "data": {
      "image/png": "[encoded data removed]",
      "text/plain": [
       "<Figure size 432x288 with 50 Axes>"
      ]
     },
     "metadata": {
      "needs_background": "light"
     },
     "output_type": "display_data"
    }
   ],
   "source": [
    "data_loader = DataLoader(dataset=train_data, batch_size=batch_size, shuffle=True, drop_last = True)\n",
    "\n",
    "for img, label in data_loader:        \n",
    "    for i in range(batch_size):\n",
    "        ax = plt.subplot(1, batch_size, i+1)\n",
    "        ax.axis('off')\n",
    "        imshow(img[i], cmap='gray')\n",
    "    print(label)\n",
    "    break"
   ]
  },
  {
   "cell_type": "code",
   "execution_count": 27,
   "id": "823f1224",
   "metadata": {},
   "outputs": [
    {
     "name": "stdout",
     "output_type": "stream",
     "text": [
      "198.0\n"
     ]
    }
   ],
   "source": [
    "input_size = 200\n",
    "filter_size = 3\n",
    "padding = 0\n",
    "stride = 1\n",
    "\n",
    "output_size = (input_size - filter_size + (2*padding)) / stride + 1\n",
    "print(output_size)"
   ]
  },
  {
   "cell_type": "code",
   "execution_count": 28,
   "id": "c4c7a0be",
   "metadata": {},
   "outputs": [],
   "source": [
    "class CNN(nn.Module):\n",
    "    \n",
    "    def __init__(self):\n",
    "        super(CNN, self).__init__()\n",
    "        self.layer1 = nn.Sequential(            \n",
    "            nn.Conv2d(1, 32, kernel_size=3, stride=1, padding=1),\n",
    "            nn.ReLU(),\n",
    "            nn.MaxPool2d(2)\n",
    "        )\n",
    "        \n",
    "        self.layer2 = nn.Sequential(            \n",
    "            nn.Conv2d(32, 64, kernel_size=3, stride=1, padding=1),\n",
    "            nn.ReLU(),\n",
    "            nn.MaxPool2d(2)\n",
    "        )\n",
    "        \n",
    "        self.fc = nn.Linear(40000, 2, bias=True)\n",
    "        torch.nn.init.xavier_uniform_(self.fc.weight)\n",
    "        \n",
    "    def forward(self, x):\n",
    "        out = self.layer1(x)\n",
    "        out = self.layer2(out)        \n",
    "        out = out.view(out.size(0), -1)\n",
    "        out = self.fc(out)\n",
    "        return out"
   ]
  },
  {
   "cell_type": "code",
   "execution_count": 30,
   "id": "74e7c876",
   "metadata": {},
   "outputs": [],
   "source": [
    "model = CNN().to(device)"
   ]
  },
  {
   "cell_type": "code",
   "execution_count": 31,
   "id": "185e6b1d",
   "metadata": {},
   "outputs": [],
   "source": [
    "criterion = nn.CrossEntropyLoss().to(device)\n",
    "optimizer = torch.optim.Adam(model.parameters(), lr = learning_rate)"
   ]
  },
  {
   "cell_type": "code",
   "execution_count": 32,
   "id": "a4db0da4",
   "metadata": {},
   "outputs": [
    {
     "name": "stdout",
     "output_type": "stream",
     "text": [
      "(6, 1)\n"
     ]
    }
   ],
   "source": [
    "print(torch.cuda.get_device_capability())\n",
    "torch.cuda.empty_cache()"
   ]
  },
  {
   "cell_type": "code",
   "execution_count": 33,
   "id": "2b1c3529",
   "metadata": {},
   "outputs": [
    {
     "name": "stdout",
     "output_type": "stream",
     "text": [
      "Learning Started!\n",
      "[Epoch:1] cost = 20468.51953125\n",
      "[Epoch:2] cost = 2040.6761474609375\n",
      "[Epoch:3] cost = 204.51416015625\n",
      "[Epoch:4] cost = 5.831660747528076\n",
      "[Epoch:5] cost = 2.3721866607666016\n",
      "[Epoch:6] cost = 2.5161237716674805\n",
      "[Epoch:7] cost = 1.75763738155365\n",
      "[Epoch:8] cost = 2.4630587100982666\n",
      "[Epoch:9] cost = 2.5099971294403076\n",
      "[Epoch:10] cost = 2.039581060409546\n",
      "[Epoch:11] cost = 1.9527877569198608\n",
      "[Epoch:12] cost = 1.604142665863037\n",
      "[Epoch:13] cost = 1.2009007930755615\n",
      "[Epoch:14] cost = 1.0480645895004272\n",
      "[Epoch:15] cost = 1.0263980627059937\n",
      "Learning fished!\n"
     ]
    }
   ],
   "source": [
    "# Training\n",
    "total_batch = len(data_loader)\n",
    "\n",
    "print('Learning Started!')        \n",
    "\n",
    "for epoch in range(training_epochs):\n",
    "    avg_cost = 0\n",
    "    \n",
    "    for X, Y in data_loader:\n",
    "\n",
    "        X = X.to(device)\n",
    "        Y = Y.to(device)\n",
    "        \n",
    "        optimizer.zero_grad()\n",
    "#         print(X.shape)\n",
    "        X = X.unsqueeze(1)\n",
    "#         print(X.shape)        \n",
    "        \n",
    "        hypothesis = model(X.float())\n",
    "        \n",
    "        cost = criterion(hypothesis, Y)        \n",
    "        cost.backward()\n",
    "        optimizer.step()\n",
    "        \n",
    "        avg_cost += cost / total_batch\n",
    "        \n",
    "    print(f'[Epoch:{epoch+1}] cost = {avg_cost}')\n",
    "    \n",
    "print('Learning fished!')        "
   ]
  },
  {
   "cell_type": "code",
   "execution_count": 34,
   "id": "bc09fb26",
   "metadata": {},
   "outputs": [
    {
     "name": "stdout",
     "output_type": "stream",
     "text": [
      "tensor([0, 0, 1, 1, 1, 0, 0, 0, 0, 0, 1, 0, 0, 1, 1, 0, 1, 1, 0, 0, 0, 1, 0, 0,\n",
      "        0, 0, 1, 1, 0, 1, 0, 0, 1, 0, 0, 1, 1, 1, 1, 1, 1, 1, 0, 0, 1, 0, 0, 1,\n",
      "        0, 0])\n"
     ]
    },
    {
     "data": {
      "image/png": "[encoded data removed]",
      "text/plain": [
       "<Figure size 432x288 with 50 Axes>"
      ]
     },
     "metadata": {
      "needs_background": "light"
     },
     "output_type": "display_data"
    }
   ],
   "source": [
    "data_loader2 = DataLoader(dataset=test_data, batch_size=batch_size, shuffle=True, drop_last = True)\n",
    "\n",
    "for img, label in data_loader2:        \n",
    "    for i in range(batch_size):\n",
    "        ax = plt.subplot(1, batch_size, i+1)\n",
    "        ax.axis('off')\n",
    "        imshow(img[i], cmap='gray')\n",
    "#         print(img[i])\n",
    "#         print(img[i].shape)\n",
    "    print(label)\n",
    "    break"
   ]
  },
  {
   "cell_type": "code",
   "execution_count": 35,
   "id": "ac4beb87",
   "metadata": {},
   "outputs": [],
   "source": [
    "# model save / load\n",
    "# PATH = \n",
    "# torch.save(model.state_dict(), PATH)"
   ]
  },
  {
   "cell_type": "code",
   "execution_count": 36,
   "id": "23b9b684",
   "metadata": {
    "scrolled": true
   },
   "outputs": [
    {
     "name": "stdout",
     "output_type": "stream",
     "text": [
      "tensor(52.5000, device='cuda:0')\n"
     ]
    }
   ],
   "source": [
    "with torch.no_grad():    \n",
    "    \n",
    "    model.eval()\n",
    "    \n",
    "    total = 0\n",
    "    correct = 0\n",
    "    \n",
    "    for X_test, Y_test in data_loader2:\n",
    "        X_test = X_test.to(device)\n",
    "        \n",
    "        X_test = X_test.unsqueeze(1)\n",
    "        Y_test = Y_test.to(device)\n",
    "        \n",
    "        output = model(X_test.float())\n",
    "        _, predict = torch.max(output.data, 1)\n",
    "        \n",
    "        total += Y_test.size(0)\n",
    "        correct += (predict==Y_test).sum()\n",
    "        \n",
    "    avg_cost = cost / total_batch\n",
    "    accuracy = 100*correct/total\n",
    "    \n",
    "    print(accuracy)"
   ]
  },
  {
   "cell_type": "code",
   "execution_count": null,
   "id": "8e63a148-07a6-4b0b-8c0c-788aabe50401",
   "metadata": {},
   "outputs": [],
   "source": [
    "# Most simple model : VGG 적용해보기\n",
    "# VGG feature 이미지 보기\n",
    "# 이후 image processing 해보기"
   ]
  }
 ],
 "metadata": {
  "kernelspec": {
   "display_name": "Python 3",
   "language": "python",
   "name": "python3"
  },
  "language_info": {
   "codemirror_mode": {
    "name": "ipython",
    "version": 3
   },
   "file_extension": ".py",
   "mimetype": "text/x-python",
   "name": "python",
   "nbconvert_exporter": "python",
   "pygments_lexer": "ipython3",
   "version": "3.9.5"
  }
 },
 "nbformat": 4,
 "nbformat_minor": 5
}
