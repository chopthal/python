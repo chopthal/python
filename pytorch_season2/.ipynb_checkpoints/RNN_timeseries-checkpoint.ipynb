{
 "cells": [
  {
   "cell_type": "code",
   "execution_count": 61,
   "id": "3ce1b876-e855-4424-9865-ba65455abc34",
   "metadata": {},
   "outputs": [],
   "source": [
    "import pandas as pd\n",
    "import pandas_datareader as pdr\n",
    "from datetime import datetime\n",
    "\n",
    "\n",
    "crm = pdr.get_data_yahoo('crm', start=datetime(2020, 1, 1), end=datetime.today())\n",
    "sample = crm.loc[:, ['High', 'Low', 'Open', 'Close', 'Volume']]\n",
    "# print(sample.shape)\n",
    "# print(sample)"
   ]
  },
  {
   "cell_type": "code",
   "execution_count": 62,
   "id": "24b17186-31e7-4fb8-9ecc-a2eefc575cef",
   "metadata": {},
   "outputs": [],
   "source": [
    "sample = np.loadtxt(\"data.csv\", delimiter=\",\")\n",
    "sample = sample[::-1]"
   ]
  },
  {
   "cell_type": "code",
   "execution_count": 63,
   "id": "613123d8-96a4-4677-8288-5905273bc6b3",
   "metadata": {},
   "outputs": [],
   "source": [
    "import numpy as np\n",
    "\n",
    "\n",
    "def minmax_scaler(data):\n",
    "    eps = 1e-7\n",
    "    numerator = data - np.min(data, 0)\n",
    "    denominator = np.max(data, 0) - np.min(data, 0)\n",
    "    return numerator / (denominator + eps)\n",
    "\n",
    "\n",
    "def build_dataset(time_series, seq_length):\n",
    "    dataX = []\n",
    "    dataY = []\n",
    "    for i in range(0, len(time_series) - seq_length):\n",
    "        _x = time_series[i : i + seq_length, :]\n",
    "        _y = time_series[i + seq_length, [-1]]\n",
    "#         print(_x, \"->\", _y)\n",
    "        dataX.append(_x)\n",
    "        dataY.append(_y)\n",
    "    return np.array(dataX), np.array(dataY)"
   ]
  },
  {
   "cell_type": "code",
   "execution_count": 64,
   "id": "75aee789-bb9c-4c84-b3dc-a671ddced7af",
   "metadata": {},
   "outputs": [],
   "source": [
    "import torch\n",
    "import matplotlib.pyplot as plt\n",
    "\n",
    "torch.manual_seed(0)\n",
    "\n",
    "seq_length = 7\n",
    "data_dim = sample.shape[1]\n",
    "hidden_dim = 10\n",
    "output_dim = 1\n",
    "learning_rate = 0.1\n",
    "iterations = 500\n",
    "layers = 1\n",
    "\n",
    "xy = sample\n",
    "\n",
    "train_size = int(len(xy) * 0.7)\n",
    "train_set = xy[0 : train_size]\n",
    "test_set = xy[train_size - seq_length : ]\n",
    "\n",
    "train_set = minmax_scaler(train_set)\n",
    "test_set = minmax_scaler(test_set)\n",
    "\n",
    "trainX, trainY = build_dataset(train_set, seq_length)\n",
    "testX, testY = build_dataset(test_set, seq_length)\n",
    "\n",
    "trainX_tensor = torch.FloatTensor(trainX)\n",
    "trainY_tensor = torch.FloatTensor(trainY)\n",
    "testX_tensor = torch.FloatTensor(testX)\n",
    "testY_tensor = torch.FloatTensor(testY)"
   ]
  },
  {
   "cell_type": "code",
   "execution_count": 65,
   "id": "da285a05-476f-4cb7-ae62-026d9eea1b1f",
   "metadata": {},
   "outputs": [],
   "source": [
    "class Net(torch.nn.Module):\n",
    "    def __init__(self, input_dim, hidden_dim, output_dim, layers):\n",
    "        super(Net, self).__init__()\n",
    "        self.rnn = torch.nn.LSTM(input_dim, hidden_dim, num_layers=layers)\n",
    "        self.fc = torch.nn.Linear(hidden_dim, output_dim, bias=True)\n",
    "        \n",
    "    def forward(self, x):\n",
    "        x, _status = self.rnn(x)\n",
    "        x = self.fc(x[:, -1])\n",
    "        return x"
   ]
  },
  {
   "cell_type": "code",
   "execution_count": null,
   "id": "f338ba99-78b1-4503-9b26-305850a2d565",
   "metadata": {},
   "outputs": [],
   "source": [
    "net = Net(data_dim, hidden_dim, output_dim, layers)\n",
    "\n",
    "criterion = torch.nn.MSELoss()\n",
    "optimizer = optim.Adam(net.parameters(), lr=learning_rate)\n",
    "\n",
    "for i in range(iterations):\n",
    "    "
   ]
  }
 ],
 "metadata": {
  "kernelspec": {
   "display_name": "Python 3",
   "language": "python",
   "name": "python3"
  },
  "language_info": {
   "codemirror_mode": {
    "name": "ipython",
    "version": 3
   },
   "file_extension": ".py",
   "mimetype": "text/x-python",
   "name": "python",
   "nbconvert_exporter": "python",
   "pygments_lexer": "ipython3",
   "version": "3.9.5"
  }
 },
 "nbformat": 4,
 "nbformat_minor": 5
}
