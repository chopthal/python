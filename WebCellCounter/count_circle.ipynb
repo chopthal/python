{
 "cells": [
  {
   "cell_type": "code",
   "execution_count": 45,
   "id": "1e223e48",
   "metadata": {},
   "outputs": [
    {
     "name": "stdout",
     "output_type": "stream",
     "text": [
      "23 circles are detected!!\n"
     ]
    }
   ],
   "source": [
    "import cv2\n",
    "import numpy as np\n",
    "\n",
    "img = cv2.imread('./uploads/set-of-10-1-500x500.jpg')\n",
    "output = img.copy()\n",
    "img = cv2.medianBlur(img,5)\n",
    "img_gray = cv2.cvtColor(img,cv2.COLOR_BGR2GRAY)\n",
    "\n",
    "circles = cv2.HoughCircles(img_gray, cv2.HOUGH_GRADIENT,dp=1, minDist=20,\n",
    "                            param1=30, param2=50, minRadius=20, maxRadius=50)\n",
    "num_circles = len(circles[0, :])\n",
    "print(f'{num_circles} circles are detected!!')\n",
    "\n",
    "if circles is not None:\n",
    "    circles = np.round(circles[0, :]).astype('int')\n",
    "    \n",
    "    for (x, y, r) in circles:\n",
    "        cv2.circle(output, (x, y), r, (0, 0, 255), 2)\n",
    "\n",
    "# cv2.imshow('coins', output)\n",
    "# cv2.waitKey(0)\n",
    "# cv2.destroyAllWindows()"
   ]
  },
  {
   "cell_type": "code",
   "execution_count": null,
   "id": "3a150843",
   "metadata": {},
   "outputs": [],
   "source": []
  },
  {
   "cell_type": "code",
   "execution_count": 40,
   "id": "756d1127",
   "metadata": {},
   "outputs": [],
   "source": []
  },
  {
   "cell_type": "code",
   "execution_count": 43,
   "id": "01153a2b",
   "metadata": {},
   "outputs": [
    {
     "data": {
      "text/plain": [
       "23"
      ]
     },
     "execution_count": 43,
     "metadata": {},
     "output_type": "execute_result"
    }
   ],
   "source": []
  }
 ],
 "metadata": {
  "kernelspec": {
   "display_name": "Python 3",
   "language": "python",
   "name": "python3"
  },
  "language_info": {
   "codemirror_mode": {
    "name": "ipython",
    "version": 3
   },
   "file_extension": ".py",
   "mimetype": "text/x-python",
   "name": "python",
   "nbconvert_exporter": "python",
   "pygments_lexer": "ipython3",
   "version": "3.9.2"
  }
 },
 "nbformat": 4,
 "nbformat_minor": 5
}
